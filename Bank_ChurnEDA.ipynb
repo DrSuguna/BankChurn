{
  "nbformat": 4,
  "nbformat_minor": 0,
  "metadata": {
    "colab": {
      "provenance": []
    },
    "kernelspec": {
      "display_name": "Python [default]",
      "language": "python",
      "name": "python3"
    },
    "language_info": {
      "codemirror_mode": {
        "name": "ipython",
        "version": 3
      },
      "file_extension": ".py",
      "mimetype": "text/x-python",
      "name": "python",
      "nbconvert_exporter": "python",
      "pygments_lexer": "ipython3",
      "version": "3.6.6"
    },
    "toc": {
      "base_numbering": 1,
      "nav_menu": {},
      "number_sections": false,
      "sideBar": false,
      "skip_h1_title": false,
      "title_cell": "Table of Contents",
      "title_sidebar": "Contents",
      "toc_cell": false,
      "toc_position": {},
      "toc_section_display": false,
      "toc_window_display": false
    }
  },
  "cells": [
    {
      "cell_type": "markdown",
      "metadata": {
        "id": "Uj2sz_9T-Eo8"
      },
      "source": [
        "# Mitigating Churn in Financial Services - EDA\n",
        "\n",
        "Churn prediction involves leveraging data insights to anticipate customer churn and intervene in a timely manner.\n",
        "\n",
        "\n",
        "\n",
        "This notebook is to do the data analysis on the `churn.csv` file.\n"
      ]
    },
    {
      "cell_type": "markdown",
      "metadata": {
        "id": "_sD7UC0v-EpA"
      },
      "source": [
        "The first step in the Data Preprocessing is to import the libraries, load the data and do some Exploratory Data Analysis (EDA)."
      ]
    },
    {
      "cell_type": "markdown",
      "metadata": {
        "id": "EUKTb7T_-EpC"
      },
      "source": [
        "### Importing libraries"
      ]
    },
    {
      "cell_type": "code",
      "metadata": {
        "id": "vw6hulIA-EpD"
      },
      "source": [
        "import numpy as np\n",
        "import pandas as pd\n",
        "import matplotlib.pyplot as plt\n",
        "# from pysankey import sankey\n",
        "\n",
        "# For the predictive models\n",
        "from sklearn.preprocessing import LabelEncoder, OneHotEncoder, StandardScaler\n",
        "from sklearn.model_selection import train_test_split, GridSearchCV\n",
        "from sklearn.metrics import balanced_accuracy_score, roc_auc_score, accuracy_score, classification_report, confusion_matrix\n",
        "\n",
        "from sklearn.linear_model import LogisticRegression\n",
        "from sklearn.neural_network import MLPClassifier\n",
        "from sklearn.ensemble import GradientBoostingClassifier as GBSklearn\n",
        "from xgboost import XGBClassifier as XGB\n",
        "import lightgbm as lgb\n",
        "\n",
        "# Removing annoying warnings\n",
        "import sys\n",
        "import warnings\n",
        "if not sys.warnoptions:\n",
        "    warnings.simplefilter(\"ignore\")"
      ],
      "execution_count": null,
      "outputs": []
    },
    {
      "cell_type": "markdown",
      "metadata": {
        "id": "HWBiEtNG-EpF"
      },
      "source": [
        "Defining useful functions:"
      ]
    },
    {
      "cell_type": "code",
      "metadata": {
        "id": "SJ28W7Vb-EpG"
      },
      "source": [
        "def count_by_group(data, feature, target):\n",
        "    df = data.groupby([feature, target])[target].agg(['count'])\n",
        "    temp = data.groupby([feature])[target].agg(['count'])\n",
        "    df['pct'] = 100*df.div(temp, level = feature).reset_index()['count'].values\n",
        "    return df.reset_index()\n",
        "\n",
        "def classification_report_to_dataframe(true, predictions, predictions_proba, model_name, balanced = 'no'):\n",
        "    a = classification_report(true, predictions, output_dict = True)\n",
        "    zeros = pd.DataFrame(data = a['0'], index = [0]).iloc[:,0:3].add_suffix('_0')\n",
        "    ones = pd.DataFrame(data = a['1'], index = [0]).iloc[:,0:3].add_suffix('_1')\n",
        "    df = pd.concat([zeros, ones], axis = 1)\n",
        "    temp = list(df)\n",
        "    df['Model'] = model_name\n",
        "    df['Balanced'] = balanced\n",
        "    df['Accuracy'] = accuracy_score(true, predictions)\n",
        "    df['Balanced_Accuracy'] = balanced_accuracy_score(true, predictions)\n",
        "    df['AUC'] = roc_auc_score(true, predictions_proba, average = 'macro')\n",
        "    df = df[['Model', 'Balanced', 'Accuracy', 'Balanced_Accuracy', 'AUC'] + temp]\n",
        "    return df\n",
        "\n",
        "def plot_confusion_matrix(cm,\n",
        "                          target_names,\n",
        "                          title='Confusion matrix',\n",
        "                          cmap=None,\n",
        "                          normalize=True):\n",
        "    \"\"\"\n",
        "    given a sklearn confusion matrix (cm), make a nice plot\n",
        "\n",
        "    Arguments\n",
        "    ---------\n",
        "    cm:           confusion matrix from sklearn.metrics.confusion_matrix\n",
        "\n",
        "    target_names: given classification classes such as [0, 1, 2]\n",
        "                  the class names, for example: ['high', 'medium', 'low']\n",
        "\n",
        "    title:        the text to display at the top of the matrix\n",
        "\n",
        "    cmap:         the gradient of the values displayed from matplotlib.pyplot.cm\n",
        "                  see http://matplotlib.org/examples/color/colormaps_reference.html\n",
        "                  plt.get_cmap('jet') or plt.cm.Blues\n",
        "\n",
        "    normalize:    If False, plot the raw numbers\n",
        "                  If True, plot the proportions\n",
        "\n",
        "    Usage\n",
        "    -----\n",
        "    plot_confusion_matrix(cm           = cm,                  # confusion matrix created by\n",
        "                                                              # sklearn.metrics.confusion_matrix\n",
        "                          normalize    = True,                # show proportions\n",
        "                          target_names = y_labels_vals,       # list of names of the classes\n",
        "                          title        = best_estimator_name) # title of graph\n",
        "\n",
        "    Citiation\n",
        "    ---------\n",
        "    http://scikit-learn.org/stable/auto_examples/model_selection/plot_confusion_matrix.html\n",
        "\n",
        "    \"\"\"\n",
        "    import matplotlib.pyplot as plt\n",
        "    import numpy as np\n",
        "    import itertools\n",
        "\n",
        "    accuracy = np.trace(cm) / float(np.sum(cm))\n",
        "    misclass = 1 - accuracy\n",
        "\n",
        "    if cmap is None:\n",
        "        cmap = plt.get_cmap('Blues')\n",
        "\n",
        "    plt.figure(figsize=(8, 6))\n",
        "    plt.imshow(cm, interpolation='nearest', cmap=cmap)\n",
        "    plt.title(title)\n",
        "    plt.colorbar()\n",
        "\n",
        "    if target_names is not None:\n",
        "        tick_marks = np.arange(len(target_names))\n",
        "        plt.xticks(tick_marks, target_names, rotation=45)\n",
        "        plt.yticks(tick_marks, target_names)\n",
        "\n",
        "    if normalize:\n",
        "        cm = cm.astype('float') / cm.sum(axis=1)[:, np.newaxis]\n",
        "\n",
        "\n",
        "    thresh = cm.max() / 1.5 if normalize else cm.max() / 2\n",
        "    for i, j in itertools.product(range(cm.shape[0]), range(cm.shape[1])):\n",
        "        if normalize:\n",
        "            plt.text(j, i, \"{:0.4f}\".format(cm[i, j]),\n",
        "                     horizontalalignment=\"center\",\n",
        "                     color=\"white\" if cm[i, j] > thresh else \"black\")\n",
        "        else:\n",
        "            plt.text(j, i, \"{:,}\".format(cm[i, j]),\n",
        "                     horizontalalignment=\"center\",\n",
        "                     color=\"white\" if cm[i, j] > thresh else \"black\")\n",
        "\n",
        "\n",
        "    plt.tight_layout()\n",
        "    plt.ylabel('True label')\n",
        "    plt.xlabel('Predicted label\\naccuracy={:0.4f}; misclass={:0.4f}'.format(accuracy, misclass))\n",
        "    plt.show()"
      ],
      "execution_count": null,
      "outputs": []
    },
    {
      "cell_type": "markdown",
      "metadata": {
        "id": "-DrYQEzw-EpH"
      },
      "source": [
        "### Importing the dataset"
      ]
    },
    {
      "cell_type": "code",
      "metadata": {
        "id": "0rdt0GZS-EpJ"
      },
      "source": [
        "dataset = pd.read_csv('churn.csv')"
      ],
      "execution_count": null,
      "outputs": []
    },
    {
      "cell_type": "markdown",
      "metadata": {
        "id": "mpfa6bdU-EpK"
      },
      "source": [
        "## 1. Exploratory Data Analysis"
      ]
    },
    {
      "cell_type": "markdown",
      "metadata": {
        "id": "0CC4YGdd-EpM"
      },
      "source": [
        "Printing the first rows of the dataset:"
      ]
    },
    {
      "cell_type": "code",
      "metadata": {
        "colab": {
          "base_uri": "https://localhost:8080/",
          "height": 224
        },
        "id": "fG8Y5_7F-EpN",
        "scrolled": true,
        "outputId": "91fa27f5-d8eb-40e6-8ba3-cc556cc1c9f8"
      },
      "source": [
        "dataset.head()"
      ],
      "execution_count": null,
      "outputs": [
        {
          "data": {
            "text/html": [
              "<div>\n",
              "<style scoped>\n",
              "    .dataframe tbody tr th:only-of-type {\n",
              "        vertical-align: middle;\n",
              "    }\n",
              "\n",
              "    .dataframe tbody tr th {\n",
              "        vertical-align: top;\n",
              "    }\n",
              "\n",
              "    .dataframe thead th {\n",
              "        text-align: right;\n",
              "    }\n",
              "</style>\n",
              "<table border=\"1\" class=\"dataframe\">\n",
              "  <thead>\n",
              "    <tr style=\"text-align: right;\">\n",
              "      <th></th>\n",
              "      <th>RowNumber</th>\n",
              "      <th>CustomerId</th>\n",
              "      <th>Surname</th>\n",
              "      <th>CreditScore</th>\n",
              "      <th>Geography</th>\n",
              "      <th>Gender</th>\n",
              "      <th>Age</th>\n",
              "      <th>Tenure</th>\n",
              "      <th>Balance</th>\n",
              "      <th>NumOfProducts</th>\n",
              "      <th>HasCrCard</th>\n",
              "      <th>IsActiveMember</th>\n",
              "      <th>EstimatedSalary</th>\n",
              "      <th>Exited</th>\n",
              "    </tr>\n",
              "  </thead>\n",
              "  <tbody>\n",
              "    <tr>\n",
              "      <th>0</th>\n",
              "      <td>1</td>\n",
              "      <td>15634602</td>\n",
              "      <td>Hargrave</td>\n",
              "      <td>619</td>\n",
              "      <td>France</td>\n",
              "      <td>Female</td>\n",
              "      <td>42</td>\n",
              "      <td>2</td>\n",
              "      <td>0.00</td>\n",
              "      <td>1</td>\n",
              "      <td>1</td>\n",
              "      <td>1</td>\n",
              "      <td>101348.88</td>\n",
              "      <td>1</td>\n",
              "    </tr>\n",
              "    <tr>\n",
              "      <th>1</th>\n",
              "      <td>2</td>\n",
              "      <td>15647311</td>\n",
              "      <td>Hill</td>\n",
              "      <td>608</td>\n",
              "      <td>Spain</td>\n",
              "      <td>Female</td>\n",
              "      <td>41</td>\n",
              "      <td>1</td>\n",
              "      <td>83807.86</td>\n",
              "      <td>1</td>\n",
              "      <td>0</td>\n",
              "      <td>1</td>\n",
              "      <td>112542.58</td>\n",
              "      <td>0</td>\n",
              "    </tr>\n",
              "    <tr>\n",
              "      <th>2</th>\n",
              "      <td>3</td>\n",
              "      <td>15619304</td>\n",
              "      <td>Onio</td>\n",
              "      <td>502</td>\n",
              "      <td>France</td>\n",
              "      <td>Female</td>\n",
              "      <td>42</td>\n",
              "      <td>8</td>\n",
              "      <td>159660.80</td>\n",
              "      <td>3</td>\n",
              "      <td>1</td>\n",
              "      <td>0</td>\n",
              "      <td>113931.57</td>\n",
              "      <td>1</td>\n",
              "    </tr>\n",
              "    <tr>\n",
              "      <th>3</th>\n",
              "      <td>4</td>\n",
              "      <td>15701354</td>\n",
              "      <td>Boni</td>\n",
              "      <td>699</td>\n",
              "      <td>France</td>\n",
              "      <td>Female</td>\n",
              "      <td>39</td>\n",
              "      <td>1</td>\n",
              "      <td>0.00</td>\n",
              "      <td>2</td>\n",
              "      <td>0</td>\n",
              "      <td>0</td>\n",
              "      <td>93826.63</td>\n",
              "      <td>0</td>\n",
              "    </tr>\n",
              "    <tr>\n",
              "      <th>4</th>\n",
              "      <td>5</td>\n",
              "      <td>15737888</td>\n",
              "      <td>Mitchell</td>\n",
              "      <td>850</td>\n",
              "      <td>Spain</td>\n",
              "      <td>Female</td>\n",
              "      <td>43</td>\n",
              "      <td>2</td>\n",
              "      <td>125510.82</td>\n",
              "      <td>1</td>\n",
              "      <td>1</td>\n",
              "      <td>1</td>\n",
              "      <td>79084.10</td>\n",
              "      <td>0</td>\n",
              "    </tr>\n",
              "  </tbody>\n",
              "</table>\n",
              "</div>"
            ],
            "text/plain": [
              "   RowNumber  CustomerId   Surname  ...  IsActiveMember EstimatedSalary Exited\n",
              "0          1    15634602  Hargrave  ...               1       101348.88      1\n",
              "1          2    15647311      Hill  ...               1       112542.58      0\n",
              "2          3    15619304      Onio  ...               0       113931.57      1\n",
              "3          4    15701354      Boni  ...               0        93826.63      0\n",
              "4          5    15737888  Mitchell  ...               1        79084.10      0\n",
              "\n",
              "[5 rows x 14 columns]"
            ]
          },
          "execution_count": 5,
          "metadata": {},
          "output_type": "execute_result"
        }
      ]
    },
    {
      "cell_type": "code",
      "metadata": {
        "colab": {
          "base_uri": "https://localhost:8080/"
        },
        "id": "Zxbg8VC8-EpO",
        "outputId": "9f991331-9ad4-4022-e91d-8fa4e68d5fad"
      },
      "source": [
        "dataset.info()"
      ],
      "execution_count": null,
      "outputs": [
        {
          "name": "stdout",
          "output_type": "stream",
          "text": [
            "<class 'pandas.core.frame.DataFrame'>\n",
            "RangeIndex: 10000 entries, 0 to 9999\n",
            "Data columns (total 14 columns):\n",
            " #   Column           Non-Null Count  Dtype  \n",
            "---  ------           --------------  -----  \n",
            " 0   RowNumber        10000 non-null  int64  \n",
            " 1   CustomerId       10000 non-null  int64  \n",
            " 2   Surname          10000 non-null  object \n",
            " 3   CreditScore      10000 non-null  int64  \n",
            " 4   Geography        10000 non-null  object \n",
            " 5   Gender           10000 non-null  object \n",
            " 6   Age              10000 non-null  int64  \n",
            " 7   Tenure           10000 non-null  int64  \n",
            " 8   Balance          10000 non-null  float64\n",
            " 9   NumOfProducts    10000 non-null  int64  \n",
            " 10  HasCrCard        10000 non-null  int64  \n",
            " 11  IsActiveMember   10000 non-null  int64  \n",
            " 12  EstimatedSalary  10000 non-null  float64\n",
            " 13  Exited           10000 non-null  int64  \n",
            "dtypes: float64(2), int64(9), object(3)\n",
            "memory usage: 1.1+ MB\n"
          ]
        }
      ]
    },
    {
      "cell_type": "markdown",
      "metadata": {
        "id": "Bb3R9mYu-EpP"
      },
      "source": [
        "Checking if there is any missing data in the dataset:"
      ]
    },
    {
      "cell_type": "code",
      "metadata": {
        "id": "YbSWuTp4-EpP",
        "scrolled": false,
        "outputId": "ddb54049-2a32-4a68-ff16-db3b1c940881"
      },
      "source": [
        "dataset.isna().sum()"
      ],
      "execution_count": null,
      "outputs": [
        {
          "data": {
            "text/plain": [
              "RowNumber          0\n",
              "CustomerId         0\n",
              "Surname            0\n",
              "CreditScore        0\n",
              "Geography          0\n",
              "Gender             0\n",
              "Age                0\n",
              "Tenure             0\n",
              "Balance            0\n",
              "NumOfProducts      0\n",
              "HasCrCard          0\n",
              "IsActiveMember     0\n",
              "EstimatedSalary    0\n",
              "Exited             0\n",
              "dtype: int64"
            ]
          },
          "execution_count": 7,
          "metadata": {},
          "output_type": "execute_result"
        }
      ]
    },
    {
      "cell_type": "markdown",
      "metadata": {
        "id": "i_ROUuyO-EpQ"
      },
      "source": [
        "The dataset has no missing values."
      ]
    },
    {
      "cell_type": "code",
      "metadata": {
        "id": "qRTiUb6O-EpQ",
        "scrolled": false,
        "outputId": "6066be89-ff29-4a28-dd29-d9144e8a530f"
      },
      "source": [
        "round(dataset.describe(),3)"
      ],
      "execution_count": null,
      "outputs": [
        {
          "data": {
            "text/html": [
              "<div>\n",
              "<style scoped>\n",
              "    .dataframe tbody tr th:only-of-type {\n",
              "        vertical-align: middle;\n",
              "    }\n",
              "\n",
              "    .dataframe tbody tr th {\n",
              "        vertical-align: top;\n",
              "    }\n",
              "\n",
              "    .dataframe thead th {\n",
              "        text-align: right;\n",
              "    }\n",
              "</style>\n",
              "<table border=\"1\" class=\"dataframe\">\n",
              "  <thead>\n",
              "    <tr style=\"text-align: right;\">\n",
              "      <th></th>\n",
              "      <th>RowNumber</th>\n",
              "      <th>CustomerId</th>\n",
              "      <th>CreditScore</th>\n",
              "      <th>Age</th>\n",
              "      <th>Tenure</th>\n",
              "      <th>Balance</th>\n",
              "      <th>NumOfProducts</th>\n",
              "      <th>HasCrCard</th>\n",
              "      <th>IsActiveMember</th>\n",
              "      <th>EstimatedSalary</th>\n",
              "      <th>Exited</th>\n",
              "    </tr>\n",
              "  </thead>\n",
              "  <tbody>\n",
              "    <tr>\n",
              "      <th>count</th>\n",
              "      <td>10000.000</td>\n",
              "      <td>1.000000e+04</td>\n",
              "      <td>10000.000</td>\n",
              "      <td>10000.000</td>\n",
              "      <td>10000.000</td>\n",
              "      <td>10000.000</td>\n",
              "      <td>10000.000</td>\n",
              "      <td>10000.000</td>\n",
              "      <td>10000.000</td>\n",
              "      <td>10000.000</td>\n",
              "      <td>10000.000</td>\n",
              "    </tr>\n",
              "    <tr>\n",
              "      <th>mean</th>\n",
              "      <td>5000.500</td>\n",
              "      <td>1.569094e+07</td>\n",
              "      <td>650.529</td>\n",
              "      <td>38.922</td>\n",
              "      <td>5.013</td>\n",
              "      <td>76485.889</td>\n",
              "      <td>1.530</td>\n",
              "      <td>0.706</td>\n",
              "      <td>0.515</td>\n",
              "      <td>100090.240</td>\n",
              "      <td>0.204</td>\n",
              "    </tr>\n",
              "    <tr>\n",
              "      <th>std</th>\n",
              "      <td>2886.896</td>\n",
              "      <td>7.193619e+04</td>\n",
              "      <td>96.653</td>\n",
              "      <td>10.488</td>\n",
              "      <td>2.892</td>\n",
              "      <td>62397.405</td>\n",
              "      <td>0.582</td>\n",
              "      <td>0.456</td>\n",
              "      <td>0.500</td>\n",
              "      <td>57510.493</td>\n",
              "      <td>0.403</td>\n",
              "    </tr>\n",
              "    <tr>\n",
              "      <th>min</th>\n",
              "      <td>1.000</td>\n",
              "      <td>1.556570e+07</td>\n",
              "      <td>350.000</td>\n",
              "      <td>18.000</td>\n",
              "      <td>0.000</td>\n",
              "      <td>0.000</td>\n",
              "      <td>1.000</td>\n",
              "      <td>0.000</td>\n",
              "      <td>0.000</td>\n",
              "      <td>11.580</td>\n",
              "      <td>0.000</td>\n",
              "    </tr>\n",
              "    <tr>\n",
              "      <th>25%</th>\n",
              "      <td>2500.750</td>\n",
              "      <td>1.562853e+07</td>\n",
              "      <td>584.000</td>\n",
              "      <td>32.000</td>\n",
              "      <td>3.000</td>\n",
              "      <td>0.000</td>\n",
              "      <td>1.000</td>\n",
              "      <td>0.000</td>\n",
              "      <td>0.000</td>\n",
              "      <td>51002.110</td>\n",
              "      <td>0.000</td>\n",
              "    </tr>\n",
              "    <tr>\n",
              "      <th>50%</th>\n",
              "      <td>5000.500</td>\n",
              "      <td>1.569074e+07</td>\n",
              "      <td>652.000</td>\n",
              "      <td>37.000</td>\n",
              "      <td>5.000</td>\n",
              "      <td>97198.540</td>\n",
              "      <td>1.000</td>\n",
              "      <td>1.000</td>\n",
              "      <td>1.000</td>\n",
              "      <td>100193.915</td>\n",
              "      <td>0.000</td>\n",
              "    </tr>\n",
              "    <tr>\n",
              "      <th>75%</th>\n",
              "      <td>7500.250</td>\n",
              "      <td>1.575323e+07</td>\n",
              "      <td>718.000</td>\n",
              "      <td>44.000</td>\n",
              "      <td>7.000</td>\n",
              "      <td>127644.240</td>\n",
              "      <td>2.000</td>\n",
              "      <td>1.000</td>\n",
              "      <td>1.000</td>\n",
              "      <td>149388.248</td>\n",
              "      <td>0.000</td>\n",
              "    </tr>\n",
              "    <tr>\n",
              "      <th>max</th>\n",
              "      <td>10000.000</td>\n",
              "      <td>1.581569e+07</td>\n",
              "      <td>850.000</td>\n",
              "      <td>92.000</td>\n",
              "      <td>10.000</td>\n",
              "      <td>250898.090</td>\n",
              "      <td>4.000</td>\n",
              "      <td>1.000</td>\n",
              "      <td>1.000</td>\n",
              "      <td>199992.480</td>\n",
              "      <td>1.000</td>\n",
              "    </tr>\n",
              "  </tbody>\n",
              "</table>\n",
              "</div>"
            ],
            "text/plain": [
              "       RowNumber    CustomerId  CreditScore        Age     Tenure     Balance  \\\n",
              "count  10000.000  1.000000e+04    10000.000  10000.000  10000.000   10000.000   \n",
              "mean    5000.500  1.569094e+07      650.529     38.922      5.013   76485.889   \n",
              "std     2886.896  7.193619e+04       96.653     10.488      2.892   62397.405   \n",
              "min        1.000  1.556570e+07      350.000     18.000      0.000       0.000   \n",
              "25%     2500.750  1.562853e+07      584.000     32.000      3.000       0.000   \n",
              "50%     5000.500  1.569074e+07      652.000     37.000      5.000   97198.540   \n",
              "75%     7500.250  1.575323e+07      718.000     44.000      7.000  127644.240   \n",
              "max    10000.000  1.581569e+07      850.000     92.000     10.000  250898.090   \n",
              "\n",
              "       NumOfProducts  HasCrCard  IsActiveMember  EstimatedSalary     Exited  \n",
              "count      10000.000  10000.000       10000.000        10000.000  10000.000  \n",
              "mean           1.530      0.706           0.515       100090.240      0.204  \n",
              "std            0.582      0.456           0.500        57510.493      0.403  \n",
              "min            1.000      0.000           0.000           11.580      0.000  \n",
              "25%            1.000      0.000           0.000        51002.110      0.000  \n",
              "50%            1.000      1.000           1.000       100193.915      0.000  \n",
              "75%            2.000      1.000           1.000       149388.248      0.000  \n",
              "max            4.000      1.000           1.000       199992.480      1.000  "
            ]
          },
          "execution_count": 8,
          "metadata": {},
          "output_type": "execute_result"
        }
      ]
    },
    {
      "cell_type": "markdown",
      "metadata": {
        "id": "gvE9oqXY-EpQ"
      },
      "source": [
        "Computing the number of exited and not exited clients:"
      ]
    },
    {
      "cell_type": "code",
      "metadata": {
        "colab": {
          "base_uri": "https://localhost:8080/"
        },
        "id": "GnVna6Wc-EpQ",
        "outputId": "2a626fed-1831-4bb5-cf93-b27256abca07"
      },
      "source": [
        "exited = len(dataset[dataset['Exited'] == 1]['Exited'])\n",
        "not_exited = len(dataset[dataset['Exited'] == 0]['Exited'])\n",
        "exited_perc = round(exited/len(dataset)*100,1)\n",
        "not_exited_perc = round(not_exited/len(dataset)*100,1)\n",
        "\n",
        "print('Number of clients that have exited the program: {} ({}%)'.format(exited, exited_perc))\n",
        "print('Number of clients that haven\\'t exited the program: {} ({}%)'.format(not_exited, not_exited_perc))"
      ],
      "execution_count": null,
      "outputs": [
        {
          "name": "stdout",
          "output_type": "stream",
          "text": [
            "Number of clients that have exited the program: 2037 (20.4%)\n",
            "Number of clients that haven't exited the program: 7963 (79.6%)\n"
          ]
        }
      ]
    },
    {
      "cell_type": "markdown",
      "metadata": {
        "id": "4ZMMVAQZ-EpR"
      },
      "source": [
        "So, around of 20% of the clients exited the bank, while around 80% stayed. As the goal here is to identify which of the customers are at higher risk to discontinue their services with the bank, we are dealing with a classification problem.\n",
        "\n",
        "A important point to take into consideration here is that we are dealing with an __imbalanced dataset__."
      ]
    },
    {
      "cell_type": "code",
      "metadata": {
        "id": "LR0xOXuB-EpR",
        "scrolled": true,
        "outputId": "fa385481-6c9d-4155-c2e2-c5df742117de"
      },
      "source": [
        "country = list(dataset['Geography'].unique())\n",
        "gender = list(dataset['Gender'].unique())\n",
        "\n",
        "print(country)\n",
        "print(gender)"
      ],
      "execution_count": null,
      "outputs": [
        {
          "name": "stdout",
          "output_type": "stream",
          "text": [
            "['France', 'Spain', 'Germany']\n",
            "['Female', 'Male']\n"
          ]
        }
      ]
    },
    {
      "cell_type": "code",
      "metadata": {
        "id": "89oq5lIA-EpS"
      },
      "source": [
        "# Create a Exited string variable to create the plots\n",
        "dataset['Exited_str'] = dataset['Exited']\n",
        "dataset['Exited_str'] = dataset['Exited_str'].map({1: 'Exited', 0: 'Stayed'})"
      ],
      "execution_count": null,
      "outputs": []
    },
    {
      "cell_type": "code",
      "metadata": {
        "colab": {
          "base_uri": "https://localhost:8080/",
          "height": 111
        },
        "id": "tcw5Mqe3-EpS",
        "scrolled": false,
        "outputId": "d03b4e20-64ab-48fb-8f13-7aea23735b99"
      },
      "source": [
        "gender_count = dataset['Gender'].value_counts()\n",
        "gender_pct= gender_count / len(dataset.index)\n",
        "\n",
        "gender = pd.concat([gender_count, round(gender_pct,2)], axis=1)\\\n",
        "        .set_axis(['count', 'pct'], axis=1, inplace=False)\n",
        "gender"
      ],
      "execution_count": null,
      "outputs": [
        {
          "data": {
            "text/html": [
              "<div>\n",
              "<style scoped>\n",
              "    .dataframe tbody tr th:only-of-type {\n",
              "        vertical-align: middle;\n",
              "    }\n",
              "\n",
              "    .dataframe tbody tr th {\n",
              "        vertical-align: top;\n",
              "    }\n",
              "\n",
              "    .dataframe thead th {\n",
              "        text-align: right;\n",
              "    }\n",
              "</style>\n",
              "<table border=\"1\" class=\"dataframe\">\n",
              "  <thead>\n",
              "    <tr style=\"text-align: right;\">\n",
              "      <th></th>\n",
              "      <th>count</th>\n",
              "      <th>pct</th>\n",
              "    </tr>\n",
              "  </thead>\n",
              "  <tbody>\n",
              "    <tr>\n",
              "      <th>Male</th>\n",
              "      <td>5457</td>\n",
              "      <td>0.55</td>\n",
              "    </tr>\n",
              "    <tr>\n",
              "      <th>Female</th>\n",
              "      <td>4543</td>\n",
              "      <td>0.45</td>\n",
              "    </tr>\n",
              "  </tbody>\n",
              "</table>\n",
              "</div>"
            ],
            "text/plain": [
              "        count   pct\n",
              "Male     5457  0.55\n",
              "Female   4543  0.45"
            ]
          },
          "execution_count": 9,
          "metadata": {},
          "output_type": "execute_result"
        }
      ]
    },
    {
      "cell_type": "code",
      "metadata": {
        "colab": {
          "base_uri": "https://localhost:8080/",
          "height": 142
        },
        "id": "z1oGqHv--EpS",
        "outputId": "3185d341-be62-4544-aca8-48bd2884d8de"
      },
      "source": [
        "geo_count = dataset['Geography'].value_counts()\n",
        "geo_pct= geo_count / len(dataset.index)\n",
        "\n",
        "geo = pd.concat([geo_count, round(geo_pct,2)], axis=1)\\\n",
        "        .set_axis(['count', 'pct'], axis=1, inplace=False)\n",
        "geo"
      ],
      "execution_count": null,
      "outputs": [
        {
          "data": {
            "text/html": [
              "<div>\n",
              "<style scoped>\n",
              "    .dataframe tbody tr th:only-of-type {\n",
              "        vertical-align: middle;\n",
              "    }\n",
              "\n",
              "    .dataframe tbody tr th {\n",
              "        vertical-align: top;\n",
              "    }\n",
              "\n",
              "    .dataframe thead th {\n",
              "        text-align: right;\n",
              "    }\n",
              "</style>\n",
              "<table border=\"1\" class=\"dataframe\">\n",
              "  <thead>\n",
              "    <tr style=\"text-align: right;\">\n",
              "      <th></th>\n",
              "      <th>count</th>\n",
              "      <th>pct</th>\n",
              "    </tr>\n",
              "  </thead>\n",
              "  <tbody>\n",
              "    <tr>\n",
              "      <th>France</th>\n",
              "      <td>5014</td>\n",
              "      <td>0.50</td>\n",
              "    </tr>\n",
              "    <tr>\n",
              "      <th>Germany</th>\n",
              "      <td>2509</td>\n",
              "      <td>0.25</td>\n",
              "    </tr>\n",
              "    <tr>\n",
              "      <th>Spain</th>\n",
              "      <td>2477</td>\n",
              "      <td>0.25</td>\n",
              "    </tr>\n",
              "  </tbody>\n",
              "</table>\n",
              "</div>"
            ],
            "text/plain": [
              "         count   pct\n",
              "France    5014  0.50\n",
              "Germany   2509  0.25\n",
              "Spain     2477  0.25"
            ]
          },
          "execution_count": 10,
          "metadata": {},
          "output_type": "execute_result"
        }
      ]
    },
    {
      "cell_type": "markdown",
      "metadata": {
        "id": "P3U_drLy-EpT"
      },
      "source": [
        "In the dataset, there are more men (55%) than women (45%), and it has only 3 different countries: France, Spain, and Germany. Where 50% of the customers are from France and 25% are from Germany, and the other group are from Spain.\n",
        "\n",
        "Now, let's just check the relationship between the features and the outcome ('Exited')."
      ]
    },
    {
      "cell_type": "code",
      "metadata": {
        "id": "1ChFIlSd-EpU"
      },
      "source": [
        "def count_by_group(data, feature, target):\n",
        "    df = data.groupby([feature, target])[target].agg(['count'])\n",
        "    temp = data.groupby([feature])[target].agg(['count'])\n",
        "    df['pct'] = 100*df.div(temp, level = feature).reset_index()['count'].values\n",
        "    return df.reset_index()"
      ],
      "execution_count": null,
      "outputs": []
    },
    {
      "cell_type": "code",
      "metadata": {
        "colab": {
          "base_uri": "https://localhost:8080/",
          "height": 173
        },
        "id": "BFtdFR3i-EpU",
        "scrolled": false,
        "outputId": "aa368330-61f9-45ee-c4ca-4a1ec3ae276e"
      },
      "source": [
        "count_by_group(dataset, feature = 'Gender', target = 'Exited')"
      ],
      "execution_count": null,
      "outputs": [
        {
          "data": {
            "text/html": [
              "<div>\n",
              "<style scoped>\n",
              "    .dataframe tbody tr th:only-of-type {\n",
              "        vertical-align: middle;\n",
              "    }\n",
              "\n",
              "    .dataframe tbody tr th {\n",
              "        vertical-align: top;\n",
              "    }\n",
              "\n",
              "    .dataframe thead th {\n",
              "        text-align: right;\n",
              "    }\n",
              "</style>\n",
              "<table border=\"1\" class=\"dataframe\">\n",
              "  <thead>\n",
              "    <tr style=\"text-align: right;\">\n",
              "      <th></th>\n",
              "      <th>Gender</th>\n",
              "      <th>Exited</th>\n",
              "      <th>count</th>\n",
              "      <th>pct</th>\n",
              "    </tr>\n",
              "  </thead>\n",
              "  <tbody>\n",
              "    <tr>\n",
              "      <th>0</th>\n",
              "      <td>Female</td>\n",
              "      <td>0</td>\n",
              "      <td>3404</td>\n",
              "      <td>74.928461</td>\n",
              "    </tr>\n",
              "    <tr>\n",
              "      <th>1</th>\n",
              "      <td>Female</td>\n",
              "      <td>1</td>\n",
              "      <td>1139</td>\n",
              "      <td>25.071539</td>\n",
              "    </tr>\n",
              "    <tr>\n",
              "      <th>2</th>\n",
              "      <td>Male</td>\n",
              "      <td>0</td>\n",
              "      <td>4559</td>\n",
              "      <td>83.544072</td>\n",
              "    </tr>\n",
              "    <tr>\n",
              "      <th>3</th>\n",
              "      <td>Male</td>\n",
              "      <td>1</td>\n",
              "      <td>898</td>\n",
              "      <td>16.455928</td>\n",
              "    </tr>\n",
              "  </tbody>\n",
              "</table>\n",
              "</div>"
            ],
            "text/plain": [
              "   Gender  Exited  count        pct\n",
              "0  Female       0   3404  74.928461\n",
              "1  Female       1   1139  25.071539\n",
              "2    Male       0   4559  83.544072\n",
              "3    Male       1    898  16.455928"
            ]
          },
          "execution_count": 12,
          "metadata": {},
          "output_type": "execute_result"
        }
      ]
    },
    {
      "cell_type": "code",
      "metadata": {
        "id": "LLziy_ud-EpU",
        "outputId": "7a935495-9732-447f-d35d-3c935336a8ec"
      },
      "source": [
        "pd.options.display.max_rows = 8\n",
        "colorDict = {\n",
        "    'Exited':'#f71b1b',\n",
        "    'Stayed':'grey',\n",
        "    'Female':'#FFD700',\n",
        "    'Male':'#8E388E'\n",
        "}\n",
        "sankey(\n",
        "    dataset['Gender'], dataset['Exited_str'], aspect=20, colorDict=colorDict,\n",
        "    fontsize=12, figureName=\"Gender\"\n",
        ")"
      ],
      "execution_count": null,
      "outputs": [
        {
          "data": {
            "image/png": "[encoded data removed]",
            "text/plain": [
              "<Figure size 432x432 with 1 Axes>"
            ]
          },
          "metadata": {},
          "output_type": "display_data"
        }
      ]
    },
    {
      "cell_type": "code",
      "metadata": {
        "id": "AtRHPPqx-EpU",
        "scrolled": true,
        "outputId": "0dc0c037-6810-42a7-a610-66dca2d18d0e"
      },
      "source": [
        "count_by_group(dataset, feature = 'Geography', target = 'Exited')"
      ],
      "execution_count": null,
      "outputs": [
        {
          "data": {
            "text/html": [
              "<div>\n",
              "<style scoped>\n",
              "    .dataframe tbody tr th:only-of-type {\n",
              "        vertical-align: middle;\n",
              "    }\n",
              "\n",
              "    .dataframe tbody tr th {\n",
              "        vertical-align: top;\n",
              "    }\n",
              "\n",
              "    .dataframe thead th {\n",
              "        text-align: right;\n",
              "    }\n",
              "</style>\n",
              "<table border=\"1\" class=\"dataframe\">\n",
              "  <thead>\n",
              "    <tr style=\"text-align: right;\">\n",
              "      <th></th>\n",
              "      <th>Geography</th>\n",
              "      <th>Exited</th>\n",
              "      <th>count</th>\n",
              "      <th>pct</th>\n",
              "    </tr>\n",
              "  </thead>\n",
              "  <tbody>\n",
              "    <tr>\n",
              "      <th>0</th>\n",
              "      <td>France</td>\n",
              "      <td>0</td>\n",
              "      <td>4204</td>\n",
              "      <td>83.845233</td>\n",
              "    </tr>\n",
              "    <tr>\n",
              "      <th>1</th>\n",
              "      <td>France</td>\n",
              "      <td>1</td>\n",
              "      <td>810</td>\n",
              "      <td>16.154767</td>\n",
              "    </tr>\n",
              "    <tr>\n",
              "      <th>2</th>\n",
              "      <td>Germany</td>\n",
              "      <td>0</td>\n",
              "      <td>1695</td>\n",
              "      <td>67.556796</td>\n",
              "    </tr>\n",
              "    <tr>\n",
              "      <th>3</th>\n",
              "      <td>Germany</td>\n",
              "      <td>1</td>\n",
              "      <td>814</td>\n",
              "      <td>32.443204</td>\n",
              "    </tr>\n",
              "    <tr>\n",
              "      <th>4</th>\n",
              "      <td>Spain</td>\n",
              "      <td>0</td>\n",
              "      <td>2064</td>\n",
              "      <td>83.326605</td>\n",
              "    </tr>\n",
              "    <tr>\n",
              "      <th>5</th>\n",
              "      <td>Spain</td>\n",
              "      <td>1</td>\n",
              "      <td>413</td>\n",
              "      <td>16.673395</td>\n",
              "    </tr>\n",
              "  </tbody>\n",
              "</table>\n",
              "</div>"
            ],
            "text/plain": [
              "  Geography  Exited  count        pct\n",
              "0    France       0   4204  83.845233\n",
              "1    France       1    810  16.154767\n",
              "2   Germany       0   1695  67.556796\n",
              "3   Germany       1    814  32.443204\n",
              "4     Spain       0   2064  83.326605\n",
              "5     Spain       1    413  16.673395"
            ]
          },
          "execution_count": 17,
          "metadata": {},
          "output_type": "execute_result"
        }
      ]
    },
    {
      "cell_type": "code",
      "metadata": {
        "id": "uS1dKt1r-EpV",
        "outputId": "b27e5395-15a3-471a-a4ce-b865cd3afd68"
      },
      "source": [
        "colorDict = {\n",
        "    'Exited':'#f71b1b',\n",
        "    'Stayed':'grey',\n",
        "    'France':'#f3f71b',\n",
        "    'Spain':'#12e23f',\n",
        "    'Germany':'#f78c1b'\n",
        "}\n",
        "sankey(\n",
        "    dataset['Geography'], dataset['Exited_str'], aspect=20, colorDict=colorDict,\n",
        "    fontsize=12, figureName=\"geography\"\n",
        ")"
      ],
      "execution_count": null,
      "outputs": [
        {
          "data": {
            "image/png": "[encoded data removed]",
            "text/plain": [
              "<Figure size 432x432 with 1 Axes>"
            ]
          },
          "metadata": {},
          "output_type": "display_data"
        }
      ]
    },
    {
      "cell_type": "code",
      "metadata": {
        "id": "2WjIoT_F-EpV",
        "scrolled": false,
        "outputId": "ebe108cc-dea1-47e9-d723-49c44d1004a9"
      },
      "source": [
        "HasCrCard_count = dataset['HasCrCard'].value_counts()\n",
        "HasCrCard_pct= HasCrCard_count / len(dataset.index)\n",
        "\n",
        "HasCrCard = pd.concat([HasCrCard_count, HasCrCard_pct], axis=1)\\\n",
        "        .set_axis(['count', 'pct'], axis=1, inplace=False)\n",
        "\n",
        "HasCrCard"
      ],
      "execution_count": null,
      "outputs": [
        {
          "data": {
            "text/html": [
              "<div>\n",
              "<style scoped>\n",
              "    .dataframe tbody tr th:only-of-type {\n",
              "        vertical-align: middle;\n",
              "    }\n",
              "\n",
              "    .dataframe tbody tr th {\n",
              "        vertical-align: top;\n",
              "    }\n",
              "\n",
              "    .dataframe thead th {\n",
              "        text-align: right;\n",
              "    }\n",
              "</style>\n",
              "<table border=\"1\" class=\"dataframe\">\n",
              "  <thead>\n",
              "    <tr style=\"text-align: right;\">\n",
              "      <th></th>\n",
              "      <th>count</th>\n",
              "      <th>pct</th>\n",
              "    </tr>\n",
              "  </thead>\n",
              "  <tbody>\n",
              "    <tr>\n",
              "      <th>1</th>\n",
              "      <td>7055</td>\n",
              "      <td>0.7055</td>\n",
              "    </tr>\n",
              "    <tr>\n",
              "      <th>0</th>\n",
              "      <td>2945</td>\n",
              "      <td>0.2945</td>\n",
              "    </tr>\n",
              "  </tbody>\n",
              "</table>\n",
              "</div>"
            ],
            "text/plain": [
              "   count     pct\n",
              "1   7055  0.7055\n",
              "0   2945  0.2945"
            ]
          },
          "execution_count": 19,
          "metadata": {},
          "output_type": "execute_result"
        }
      ]
    },
    {
      "cell_type": "code",
      "metadata": {
        "id": "P7jXbl5A-EpW",
        "scrolled": true,
        "outputId": "f396f293-eb41-4913-a16e-131e2f7e9c72"
      },
      "source": [
        "count_by_group(dataset, feature = 'HasCrCard', target = 'Exited')"
      ],
      "execution_count": null,
      "outputs": [
        {
          "data": {
            "text/html": [
              "<div>\n",
              "<style scoped>\n",
              "    .dataframe tbody tr th:only-of-type {\n",
              "        vertical-align: middle;\n",
              "    }\n",
              "\n",
              "    .dataframe tbody tr th {\n",
              "        vertical-align: top;\n",
              "    }\n",
              "\n",
              "    .dataframe thead th {\n",
              "        text-align: right;\n",
              "    }\n",
              "</style>\n",
              "<table border=\"1\" class=\"dataframe\">\n",
              "  <thead>\n",
              "    <tr style=\"text-align: right;\">\n",
              "      <th></th>\n",
              "      <th>HasCrCard</th>\n",
              "      <th>Exited</th>\n",
              "      <th>count</th>\n",
              "      <th>pct</th>\n",
              "    </tr>\n",
              "  </thead>\n",
              "  <tbody>\n",
              "    <tr>\n",
              "      <th>0</th>\n",
              "      <td>0</td>\n",
              "      <td>0</td>\n",
              "      <td>2332</td>\n",
              "      <td>79.185059</td>\n",
              "    </tr>\n",
              "    <tr>\n",
              "      <th>1</th>\n",
              "      <td>0</td>\n",
              "      <td>1</td>\n",
              "      <td>613</td>\n",
              "      <td>20.814941</td>\n",
              "    </tr>\n",
              "    <tr>\n",
              "      <th>2</th>\n",
              "      <td>1</td>\n",
              "      <td>0</td>\n",
              "      <td>5631</td>\n",
              "      <td>79.815734</td>\n",
              "    </tr>\n",
              "    <tr>\n",
              "      <th>3</th>\n",
              "      <td>1</td>\n",
              "      <td>1</td>\n",
              "      <td>1424</td>\n",
              "      <td>20.184266</td>\n",
              "    </tr>\n",
              "  </tbody>\n",
              "</table>\n",
              "</div>"
            ],
            "text/plain": [
              "   HasCrCard  Exited  count        pct\n",
              "0          0       0   2332  79.185059\n",
              "1          0       1    613  20.814941\n",
              "2          1       0   5631  79.815734\n",
              "3          1       1   1424  20.184266"
            ]
          },
          "execution_count": 20,
          "metadata": {},
          "output_type": "execute_result"
        }
      ]
    },
    {
      "cell_type": "code",
      "metadata": {
        "id": "pehYVwpj-EpW",
        "outputId": "85905625-8bf8-42b4-bcaa-c834e309467b"
      },
      "source": [
        "# Create a HasCrCard string variable to create the plots\n",
        "dataset['HasCrCard_str'] = dataset['HasCrCard'].map({1: 'Has Credit Card', 0: 'Does not have Credit Card'})\n",
        "\n",
        "colorDict = {\n",
        "    'Exited':'#f71b1b',\n",
        "    'Stayed':'grey',\n",
        "    'Has Credit Card':'#FFD700',\n",
        "    'Does not have Credit Card':'#8E388E'\n",
        "}\n",
        "sankey(\n",
        "    dataset['HasCrCard_str'], dataset['Exited_str'], aspect=20, colorDict=colorDict,\n",
        "    fontsize=12, figureName=\"HasCrCard\"\n",
        ")"
      ],
      "execution_count": null,
      "outputs": [
        {
          "data": {
            "image/png": "[encoded data removed]",
            "text/plain": [
              "<Figure size 432x432 with 1 Axes>"
            ]
          },
          "metadata": {},
          "output_type": "display_data"
        }
      ]
    },
    {
      "cell_type": "code",
      "metadata": {
        "id": "P1uOHJlU-EpW",
        "outputId": "3fcd4479-aef8-4444-fc4b-7098935427b6"
      },
      "source": [
        "IsActiveMember_count = dataset['IsActiveMember'].value_counts()\n",
        "IsActiveMember_pct= HasCrCard_count / len(dataset.index)\n",
        "\n",
        "IsActiveMember = pd.concat([IsActiveMember_count, IsActiveMember_pct], axis=1)\\\n",
        "        .set_axis(['count', 'pct'], axis=1, inplace=False)\n",
        "\n",
        "IsActiveMember"
      ],
      "execution_count": null,
      "outputs": [
        {
          "data": {
            "text/html": [
              "<div>\n",
              "<style scoped>\n",
              "    .dataframe tbody tr th:only-of-type {\n",
              "        vertical-align: middle;\n",
              "    }\n",
              "\n",
              "    .dataframe tbody tr th {\n",
              "        vertical-align: top;\n",
              "    }\n",
              "\n",
              "    .dataframe thead th {\n",
              "        text-align: right;\n",
              "    }\n",
              "</style>\n",
              "<table border=\"1\" class=\"dataframe\">\n",
              "  <thead>\n",
              "    <tr style=\"text-align: right;\">\n",
              "      <th></th>\n",
              "      <th>count</th>\n",
              "      <th>pct</th>\n",
              "    </tr>\n",
              "  </thead>\n",
              "  <tbody>\n",
              "    <tr>\n",
              "      <th>1</th>\n",
              "      <td>5151</td>\n",
              "      <td>0.7055</td>\n",
              "    </tr>\n",
              "    <tr>\n",
              "      <th>0</th>\n",
              "      <td>4849</td>\n",
              "      <td>0.2945</td>\n",
              "    </tr>\n",
              "  </tbody>\n",
              "</table>\n",
              "</div>"
            ],
            "text/plain": [
              "   count     pct\n",
              "1   5151  0.7055\n",
              "0   4849  0.2945"
            ]
          },
          "execution_count": 22,
          "metadata": {},
          "output_type": "execute_result"
        }
      ]
    },
    {
      "cell_type": "code",
      "metadata": {
        "id": "mrmPEGEh-EpX",
        "scrolled": true,
        "outputId": "cac871ab-b68d-41c3-812f-4136adb3246b"
      },
      "source": [
        "count_by_group(dataset, feature = 'IsActiveMember', target = 'Exited')"
      ],
      "execution_count": null,
      "outputs": [
        {
          "data": {
            "text/html": [
              "<div>\n",
              "<style scoped>\n",
              "    .dataframe tbody tr th:only-of-type {\n",
              "        vertical-align: middle;\n",
              "    }\n",
              "\n",
              "    .dataframe tbody tr th {\n",
              "        vertical-align: top;\n",
              "    }\n",
              "\n",
              "    .dataframe thead th {\n",
              "        text-align: right;\n",
              "    }\n",
              "</style>\n",
              "<table border=\"1\" class=\"dataframe\">\n",
              "  <thead>\n",
              "    <tr style=\"text-align: right;\">\n",
              "      <th></th>\n",
              "      <th>IsActiveMember</th>\n",
              "      <th>Exited</th>\n",
              "      <th>count</th>\n",
              "      <th>pct</th>\n",
              "    </tr>\n",
              "  </thead>\n",
              "  <tbody>\n",
              "    <tr>\n",
              "      <th>0</th>\n",
              "      <td>0</td>\n",
              "      <td>0</td>\n",
              "      <td>3547</td>\n",
              "      <td>73.149103</td>\n",
              "    </tr>\n",
              "    <tr>\n",
              "      <th>1</th>\n",
              "      <td>0</td>\n",
              "      <td>1</td>\n",
              "      <td>1302</td>\n",
              "      <td>26.850897</td>\n",
              "    </tr>\n",
              "    <tr>\n",
              "      <th>2</th>\n",
              "      <td>1</td>\n",
              "      <td>0</td>\n",
              "      <td>4416</td>\n",
              "      <td>85.730926</td>\n",
              "    </tr>\n",
              "    <tr>\n",
              "      <th>3</th>\n",
              "      <td>1</td>\n",
              "      <td>1</td>\n",
              "      <td>735</td>\n",
              "      <td>14.269074</td>\n",
              "    </tr>\n",
              "  </tbody>\n",
              "</table>\n",
              "</div>"
            ],
            "text/plain": [
              "   IsActiveMember  Exited  count        pct\n",
              "0               0       0   3547  73.149103\n",
              "1               0       1   1302  26.850897\n",
              "2               1       0   4416  85.730926\n",
              "3               1       1    735  14.269074"
            ]
          },
          "execution_count": 23,
          "metadata": {},
          "output_type": "execute_result"
        }
      ]
    },
    {
      "cell_type": "code",
      "metadata": {
        "id": "LsRTjUbW-EpX",
        "scrolled": false,
        "outputId": "414ff67f-67ad-4f45-8b49-af758623fb01"
      },
      "source": [
        "# Create a IsActiveMember string variable to create the plots\n",
        "dataset['IsActiveMember_str'] = dataset['IsActiveMember'].map({1: 'Is Active Member', 0: 'Is Not ActiveMember'})\n",
        "\n",
        "colorDict = {\n",
        "    'Exited':'#f71b1b',\n",
        "    'Stayed':'grey',\n",
        "    'Is Active Member':'#FFD700',\n",
        "    'Is Not ActiveMember':'#8E388E'\n",
        "}\n",
        "sankey(\n",
        "    dataset['IsActiveMember_str'], dataset['Exited_str'], aspect=20, colorDict=colorDict,\n",
        "    fontsize=12, figureName=\"IsActiveMember_str\"\n",
        ")"
      ],
      "execution_count": null,
      "outputs": [
        {
          "data": {
            "image/png": "[encoded data removed]",
            "text/plain": [
              "<Figure size 432x432 with 1 Axes>"
            ]
          },
          "metadata": {},
          "output_type": "display_data"
        }
      ]
    },
    {
      "cell_type": "code",
      "metadata": {
        "id": "4kRxLWsd-EpX",
        "outputId": "87c766d1-94e5-4ce2-fb02-83e985ef0484"
      },
      "source": [
        "NumOfProducts_count = dataset['NumOfProducts'].value_counts()\n",
        "NumOfProducts_pct= NumOfProducts_count / len(dataset.index)\n",
        "\n",
        "NumOfProducts = pd.concat([NumOfProducts_count, round(NumOfProducts_pct,2)], axis=1)\\\n",
        "        .set_axis(['count', 'pct'], axis=1, inplace=False)\n",
        "NumOfProducts"
      ],
      "execution_count": null,
      "outputs": [
        {
          "data": {
            "text/html": [
              "<div>\n",
              "<style scoped>\n",
              "    .dataframe tbody tr th:only-of-type {\n",
              "        vertical-align: middle;\n",
              "    }\n",
              "\n",
              "    .dataframe tbody tr th {\n",
              "        vertical-align: top;\n",
              "    }\n",
              "\n",
              "    .dataframe thead th {\n",
              "        text-align: right;\n",
              "    }\n",
              "</style>\n",
              "<table border=\"1\" class=\"dataframe\">\n",
              "  <thead>\n",
              "    <tr style=\"text-align: right;\">\n",
              "      <th></th>\n",
              "      <th>count</th>\n",
              "      <th>pct</th>\n",
              "    </tr>\n",
              "  </thead>\n",
              "  <tbody>\n",
              "    <tr>\n",
              "      <th>1</th>\n",
              "      <td>5084</td>\n",
              "      <td>0.51</td>\n",
              "    </tr>\n",
              "    <tr>\n",
              "      <th>2</th>\n",
              "      <td>4590</td>\n",
              "      <td>0.46</td>\n",
              "    </tr>\n",
              "    <tr>\n",
              "      <th>3</th>\n",
              "      <td>266</td>\n",
              "      <td>0.03</td>\n",
              "    </tr>\n",
              "    <tr>\n",
              "      <th>4</th>\n",
              "      <td>60</td>\n",
              "      <td>0.01</td>\n",
              "    </tr>\n",
              "  </tbody>\n",
              "</table>\n",
              "</div>"
            ],
            "text/plain": [
              "   count   pct\n",
              "1   5084  0.51\n",
              "2   4590  0.46\n",
              "3    266  0.03\n",
              "4     60  0.01"
            ]
          },
          "execution_count": 25,
          "metadata": {},
          "output_type": "execute_result"
        }
      ]
    },
    {
      "cell_type": "code",
      "metadata": {
        "id": "ja_jLcR1-EpX",
        "scrolled": true,
        "outputId": "6fd1a83a-1284-4191-ed88-d99c14e749c4"
      },
      "source": [
        "count_by_group(dataset, feature = 'NumOfProducts', target = 'Exited')"
      ],
      "execution_count": null,
      "outputs": [
        {
          "data": {
            "text/html": [
              "<div>\n",
              "<style scoped>\n",
              "    .dataframe tbody tr th:only-of-type {\n",
              "        vertical-align: middle;\n",
              "    }\n",
              "\n",
              "    .dataframe tbody tr th {\n",
              "        vertical-align: top;\n",
              "    }\n",
              "\n",
              "    .dataframe thead th {\n",
              "        text-align: right;\n",
              "    }\n",
              "</style>\n",
              "<table border=\"1\" class=\"dataframe\">\n",
              "  <thead>\n",
              "    <tr style=\"text-align: right;\">\n",
              "      <th></th>\n",
              "      <th>NumOfProducts</th>\n",
              "      <th>Exited</th>\n",
              "      <th>count</th>\n",
              "      <th>pct</th>\n",
              "    </tr>\n",
              "  </thead>\n",
              "  <tbody>\n",
              "    <tr>\n",
              "      <th>0</th>\n",
              "      <td>1</td>\n",
              "      <td>0</td>\n",
              "      <td>3675</td>\n",
              "      <td>72.285602</td>\n",
              "    </tr>\n",
              "    <tr>\n",
              "      <th>1</th>\n",
              "      <td>1</td>\n",
              "      <td>1</td>\n",
              "      <td>1409</td>\n",
              "      <td>27.714398</td>\n",
              "    </tr>\n",
              "    <tr>\n",
              "      <th>2</th>\n",
              "      <td>2</td>\n",
              "      <td>0</td>\n",
              "      <td>4242</td>\n",
              "      <td>92.418301</td>\n",
              "    </tr>\n",
              "    <tr>\n",
              "      <th>3</th>\n",
              "      <td>2</td>\n",
              "      <td>1</td>\n",
              "      <td>348</td>\n",
              "      <td>7.581699</td>\n",
              "    </tr>\n",
              "    <tr>\n",
              "      <th>4</th>\n",
              "      <td>3</td>\n",
              "      <td>0</td>\n",
              "      <td>46</td>\n",
              "      <td>17.293233</td>\n",
              "    </tr>\n",
              "    <tr>\n",
              "      <th>5</th>\n",
              "      <td>3</td>\n",
              "      <td>1</td>\n",
              "      <td>220</td>\n",
              "      <td>82.706767</td>\n",
              "    </tr>\n",
              "    <tr>\n",
              "      <th>6</th>\n",
              "      <td>4</td>\n",
              "      <td>1</td>\n",
              "      <td>60</td>\n",
              "      <td>100.000000</td>\n",
              "    </tr>\n",
              "  </tbody>\n",
              "</table>\n",
              "</div>"
            ],
            "text/plain": [
              "   NumOfProducts  Exited  count         pct\n",
              "0              1       0   3675   72.285602\n",
              "1              1       1   1409   27.714398\n",
              "2              2       0   4242   92.418301\n",
              "3              2       1    348    7.581699\n",
              "4              3       0     46   17.293233\n",
              "5              3       1    220   82.706767\n",
              "6              4       1     60  100.000000"
            ]
          },
          "execution_count": 26,
          "metadata": {},
          "output_type": "execute_result"
        }
      ]
    },
    {
      "cell_type": "code",
      "metadata": {
        "id": "MRAHXfju-EpY",
        "outputId": "cd59d312-605f-45a3-b299-84003fc54201"
      },
      "source": [
        "# Create a IsActiveMember string variable to create the plots\n",
        "dataset['NumOfProducts_str'] = dataset['NumOfProducts'].map({1: '1', 2: '2', 3: '3', 4: '4'})\n",
        "\n",
        "colorDict = {\n",
        "    'Exited':'#f71b1b',\n",
        "    'Stayed':'grey',\n",
        "    '1':'#f3f71b',\n",
        "    '2':'#12e23f',\n",
        "    '3':'#f78c1b',\n",
        "    '4':'#8E388E'\n",
        "}\n",
        "sankey(\n",
        "    dataset['NumOfProducts_str'], dataset['Exited_str'], aspect=20, colorDict=colorDict,\n",
        "    fontsize=12, figureName=\"NumOfProducts\"\n",
        ")"
      ],
      "execution_count": null,
      "outputs": [
        {
          "data": {
            "image/png": "[encoded data removed]",
            "text/plain": [
              "<Figure size 432x432 with 1 Axes>"
            ]
          },
          "metadata": {},
          "output_type": "display_data"
        }
      ]
    },
    {
      "cell_type": "code",
      "metadata": {
        "id": "XeqTvyEp-EpY",
        "scrolled": false,
        "outputId": "3d8dc468-56cc-4ced-f75c-6f44b56a5d56"
      },
      "source": [
        "#Stacked histogram: Age\n",
        "figure = plt.figure(figsize=(15,8))\n",
        "plt.hist([\n",
        "        dataset[(dataset.Exited==0)]['Age'],\n",
        "        dataset[(dataset.Exited==1)]['Age']\n",
        "        ],\n",
        "         stacked=True, color = ['grey','r'],\n",
        "         bins = 'auto',label = ['Stayed','Exited'],\n",
        "         edgecolor='black', linewidth=1.2)\n",
        "plt.xlabel('Age (years)')\n",
        "plt.ylabel('Number of customers')\n",
        "plt.legend()"
      ],
      "execution_count": null,
      "outputs": [
        {
          "data": {
            "text/plain": [
              "<matplotlib.legend.Legend at 0x23d9c768908>"
            ]
          },
          "execution_count": 28,
          "metadata": {},
          "output_type": "execute_result"
        },
        {
          "data": {
            "image/png": "[encoded data removed]",
            "text/plain": [
              "<Figure size 1080x576 with 1 Axes>"
            ]
          },
          "metadata": {},
          "output_type": "display_data"
        }
      ]
    },
    {
      "cell_type": "code",
      "metadata": {
        "id": "DKiKNMYw-EpY",
        "scrolled": false,
        "outputId": "78d2d513-6ef0-4c36-d2ae-b940403c5385"
      },
      "source": [
        "fig, axes = plt.subplots(nrows=2, ncols=2, figsize = (15,15))\n",
        "fig.subplots_adjust(left=0.2, wspace=0.6)\n",
        "ax0, ax1, ax2, ax3 = axes.flatten()\n",
        "\n",
        "ax0.hist([\n",
        "        dataset[(dataset.Exited==0)]['CreditScore'],\n",
        "        dataset[(dataset.Exited==1)]['CreditScore']\n",
        "        ],\n",
        "         stacked=True, color = ['grey','r'],\n",
        "         bins = 'auto',label = ['Stayed','Exited'],\n",
        "         edgecolor='black', linewidth=1.2)\n",
        "ax0.legend()\n",
        "ax0.set_title('Credit Score')\n",
        "\n",
        "ax1.hist([\n",
        "        dataset[(dataset.Exited==0)]['Tenure'],\n",
        "        dataset[(dataset.Exited==1)]['Tenure']\n",
        "        ],\n",
        "         stacked=True, color = ['grey','r'],\n",
        "         bins = 'auto',label = ['Stayed','Exited'],\n",
        "         edgecolor='black', linewidth=1.2)\n",
        "ax1.legend()\n",
        "ax1.set_title('Tenure')\n",
        "\n",
        "ax2.hist([\n",
        "        dataset[(dataset.Exited==0)]['Balance'],\n",
        "        dataset[(dataset.Exited==1)]['Balance']\n",
        "        ],\n",
        "         stacked=True, color = ['grey','r'],\n",
        "         bins = 'auto',label = ['Stayed','Exited'],\n",
        "         edgecolor='black', linewidth=1.2)\n",
        "ax2.legend()\n",
        "ax2.set_title('Balance')\n",
        "\n",
        "ax3.hist([\n",
        "        dataset[(dataset.Exited==0)]['EstimatedSalary'],\n",
        "        dataset[(dataset.Exited==1)]['EstimatedSalary']\n",
        "        ],\n",
        "         stacked=True, color = ['grey','r'],\n",
        "         bins = 'auto',label = ['Stayed','Exited'],\n",
        "         edgecolor='black', linewidth=1.2)\n",
        "ax3.legend()\n",
        "ax3.set_title('Estimated Salary')\n",
        "\n",
        "fig.tight_layout()\n",
        "plt.show()"
      ],
      "execution_count": null,
      "outputs": [
        {
          "data": {
            "image/png": "[encoded data removed]",
            "text/plain": [
              "<Figure size 1080x1080 with 4 Axes>"
            ]
          },
          "metadata": {},
          "output_type": "display_data"
        }
      ]
    },
    {
      "cell_type": "markdown",
      "metadata": {
        "id": "ke6lQJsI-EpZ"
      },
      "source": [
        "From the tables and plots above, we can have some insights:\n",
        "\n",
        "1. As for gender, women are lower in number than the men, but have a higher rate to close the account.\n",
        "2. There is a higher rate of exited clients in Germany (32%, which is about 2x higher), and lower in Spain and France (around 16% each).\n",
        "3. On age, customer bellow 40 and above 65 years old have a tendency to keep their account.\n",
        "4. Has or not credit card does not impact on the decision to stay in the bank (both groups has 20% of exited customers)\n",
        "5. Non active members tend to discontinue their services with a bank compared with the active clients (27% vs 14%).\n",
        "6. The dataset has 96% of clients  with 1 or 2 product, and customers with 1 product only have a higher rate to to close the account than those with 2 products (around 3x higher).\n",
        "7. Estimated Salary does not seem to affect the churn rate"
      ]
    }
  ]
}